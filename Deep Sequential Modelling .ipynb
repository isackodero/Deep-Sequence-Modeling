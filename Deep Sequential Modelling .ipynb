{
 "cells": [
  {
   "cell_type": "markdown",
   "id": "9ee6fc18",
   "metadata": {},
   "source": [
    "<h3>What is Sequential Datasets</h3>\n",
    "<p>Sequantial datasets are all around us, ranging from:</p>\n",
    "    <ul><li>DNA sequence<img src='images/index.png'></li><li>text sms</li><li>sentences we speak</li><li>audio we \n",
    "    play</li><li>etc...</li></ul>\n",
    "    <p><b>Now What is this Sequential Datasets</b></p><br>\n",
    "    <dl><dt>This is any datasets that contain elements that are orderd into sequences for eg:</dt><dd>- sequence of words in a text</dd><dd>- sequence of charracters in a word</dd><dd>- sequence of sound waves in an audio wave forms</dd><dd>- sequence of pixels in an image forms</dd></dl>"
   ]
  },
  {
   "cell_type": "markdown",
   "id": "79d1d10b",
   "metadata": {},
   "source": [
    "<h3>What is Sequence Modeling</h3>\n",
    "\n",
    "<p>Is the process of producing a sequence of values from a set of input values or Sequencial Datasets</b></p><br>\n",
    "    "
   ]
  },
  {
   "cell_type": "markdown",
   "id": "26ed6bad",
   "metadata": {},
   "source": [
    "<h3>Sequence Modeling Application</h3>\n",
    "\n",
    "<p>Sequence Modeling is devided into Four categories </p><br>\n",
    "\n",
    "   <ol><li>One to One</li><li>Many to One</li><li>One to Many</li><li>Many to Many</li></ol> <br><p>Now let see the Applications into the following table</p>\n",
    "   \n",
    "<table style=\"border:1px solid black; border-collapse:collapse;\">\n",
    "    \n",
    "  <tr style=\"border:1px solid black; border-collapse:collapse;\">\n",
    "    <th style=\"border:1px solid black; border-collapse:collapse;\"><img src='images/one to one.png' /></th>\n",
    "    <th style=\"border:1px solid black; border-collapse:collapse;\"><img src='images/Screenshot from 2022-11-30 01-15-57.png' /></th>\n",
    "    <th style=\"border:1px solid black; border-collapse:collapse;\"><img src='images/Screenshot from 2022-11-30 01-17-03.png' /></th>\n",
    "      <th style=\"border:1px solid black; border-collapse:collapse;\"><img src='images/Screenshot from 2022-11-30 01-17-40.png' /></th>\n",
    "  </tr>\n",
    "    \n",
    "  <tr style=\"border:1px solid black; border-collapse:collapse;\">\n",
    "    <td style=\"border:1px solid black; border-collapse:collapse;\">One to One</td>\n",
    "    <td style=\"border:1px solid black; border-collapse:collapse;\">Many to One</td>\n",
    "    <td style=\"border:1px solid black; border-collapse:collapse;\">One to Many</td>\n",
    "      <td style=\"border:1px solid black; border-collapse:collapse;\">Many to Many</td>\n",
    "  </tr>\n",
    "    \n",
    "    \n",
    "    \n",
    "    \n",
    "    \n",
    "  <tr>\n",
    "      <td style=\"border:1px solid black; border-collapse:collapse;\"><p><b>Binary Classification</b></p><img src='images/Screenshot from 2022-11-30 01-45-56.png'></td>\n",
    "      <td style=\"border:1px solid black; border-collapse:collapse;\"><p><b>Sentiment Classification</b></p>\n",
    "        <img src='images/Screenshot from 2022-11-30 01-43-37.png'></td>\n",
    "    <td style=\"border:1px solid black; border-collapse:collapse;\"\n",
    "        ><p><b>Image Captioning</b></p><img src='images/Screenshot from 2022-11-30 01-40-30.png'><p>A baseball player throws a ball</p></td>\n",
    "      <td style=\"border:1px solid black; border-collapse:collapse;\"><p><b>Machine Translation</b></p><img src='images/Screenshot from 2022-11-30 01-23-44.png'></td>\n",
    "  </tr>\n",
    "</table> "
   ]
  },
  {
   "cell_type": "markdown",
   "id": "3b377eae",
   "metadata": {},
   "source": [
    "<h3>Neuron with Recurrence</h3>\n",
    "\n",
    "<p>It can be very challanging to simply andustand this concept and their application.</p><br>\n",
    "\n",
    "<p>So by understanding that we will starts by building the intuation from scratch using <b>perceptron</b></p><br>"
   ]
  },
  {
   "cell_type": "markdown",
   "id": "4be57b47",
   "metadata": {},
   "source": [
    "<h4>The Perceptron</h4>"
   ]
  },
  {
   "cell_type": "markdown",
   "id": "e00eb0f3",
   "metadata": {},
   "source": [
    "<img src='images/Screenshot from 2022-11-30 02-00-30.png'>"
   ]
  },
  {
   "cell_type": "markdown",
   "id": "dd75ee98",
   "metadata": {},
   "source": [
    "<h4>Feed-Forward Networks Revisited</h4>"
   ]
  },
  {
   "cell_type": "markdown",
   "id": "8e614eca",
   "metadata": {},
   "source": [
    "<img src='images/Screenshot from 2022-12-02 20-47-51.png'>\n",
    "<img src='images/Screenshot from 2022-12-02 20-50-05.png'>\n",
    "<p><i>But this still have no any notion of sequential or time</i></p>"
   ]
  },
  {
   "cell_type": "markdown",
   "id": "1d1a4069",
   "metadata": {},
   "source": [
    "<h4>Simplified Feed-Forward Networks </h4>"
   ]
  },
  {
   "cell_type": "markdown",
   "id": "bad40d1d",
   "metadata": {},
   "source": [
    "<img src='images/Screenshot from 2022-12-02 20-52-33.png' >\n",
    "<img src='images/Screenshot from 2022-12-02 20-53-46.png' >\n",
    "<p>Here we just stack together the individual inputs into a single vector and the individual output into a single vector</p>"
   ]
  },
  {
   "cell_type": "markdown",
   "id": "62a76f9c",
   "metadata": {},
   "source": [
    "<h4>Handling Individual Time Steps</h4>"
   ]
  },
  {
   "cell_type": "markdown",
   "id": "6ae983b2",
   "metadata": {},
   "source": [
    "<img src='images/Screenshot from 2022-12-02 21-08-35.png'>\n",
    "<p>The problem here is that we don't have the interconnection or interdepence between the output and thhe previous inputs</p>\n",
    "<p>For example here Y_2 have the interconnection with X_0 and X_1</p>\n",
    "<p>How can we capture that interconnection </p>"
   ]
  },
  {
   "cell_type": "markdown",
   "id": "7981e292",
   "metadata": {},
   "source": [
    "<h4>Neurons with Recurrence</h4>"
   ]
  },
  {
   "cell_type": "markdown",
   "id": "bfbd670b",
   "metadata": {},
   "source": [
    "<p>What we need is te way to relate networks computation out of the particular time steps to it's prior history and it's memory of computation from this prior time steps passing the information forwad through time</p><br>\n",
    "<p>What we consider doing is actually linking the information and the computation of the netwerk at different time step towards each other via what we call a recurrence relation</p><br>\n",
    "<p>And specifically how we do this in recurrent network is by having what we call an internal memory or a state which we denote by h_t</p><br>\n",
    "<p>We want this <i>state  h_t </i> to capture some notion of memory</p>\n",
    "<img src='images/Screenshot from 2022-12-02 21-10-36.png'>"
   ]
  },
  {
   "cell_type": "markdown",
   "id": "6bb63338",
   "metadata": {},
   "source": [
    "<img src='images/Screenshot from 2022-12-02 21-11-37.png'><br>\n",
    "<p>So now the output depends on the inputs and the state  which represent the past memory</p>"
   ]
  },
  {
   "cell_type": "markdown",
   "id": "650976e1",
   "metadata": {},
   "source": [
    "<h4>Neurons with Recurrence</h4>\n",
    "<img src='images/Screenshot from 2022-12-02 21-12-53.png'>\n",
    "<img src='images/Screenshot from 2022-12-02 21-13-35.png'>"
   ]
  },
  {
   "cell_type": "markdown",
   "id": "d033f3c3",
   "metadata": {},
   "source": [
    "<h3>Recurrent Neural Networks (RNNs)</h3>"
   ]
  },
  {
   "cell_type": "markdown",
   "id": "cfd38c9a",
   "metadata": {},
   "source": [
    "<img src='images/Screenshot from 2022-12-02 21-15-37.png'>"
   ]
  },
  {
   "cell_type": "markdown",
   "id": "5d84bbef",
   "metadata": {},
   "source": [
    "<p>Apply a <b>recurrence relation</b> at every time step to process a sequence:</p>"
   ]
  },
  {
   "cell_type": "markdown",
   "id": "75aba30d",
   "metadata": {},
   "source": [
    "<img src='images/Screenshot from 2022-12-02 21-17-38.png'>"
   ]
  },
  {
   "cell_type": "markdown",
   "id": "eb7f2769",
   "metadata": {},
   "source": [
    "<p><b>Note: the same function and set of parameters are used at every time step</b></p>\n",
    "    \n",
    "    "
   ]
  },
  {
   "cell_type": "markdown",
   "id": "54dea185",
   "metadata": {},
   "source": [
    "<p>RNNs have a <b>state,</b><img src ='images/Screenshot from 2022-12-02 21-20-17.png'> that is updated <b>at each time step</b> as a sequence is processed</p>"
   ]
  },
  {
   "cell_type": "markdown",
   "id": "a3391f6b",
   "metadata": {},
   "source": [
    "<!--<h4>RNN Intuition</h4>-->"
   ]
  },
  {
   "cell_type": "markdown",
   "id": "095c6f9b",
   "metadata": {},
   "source": [
    "<!--<img src='images/Screenshot from 2022-12-02 22-50-26.png'>-->"
   ]
  },
  {
   "cell_type": "markdown",
   "id": "1b493cb4",
   "metadata": {},
   "source": [
    "<h4>RNN State Update and Output</h4>"
   ]
  },
  {
   "cell_type": "markdown",
   "id": "15ee537e",
   "metadata": {},
   "source": [
    "<img src='images/Screenshot from 2022-12-02 21-15-37.png'>"
   ]
  },
  {
   "cell_type": "markdown",
   "id": "b4af1fb0",
   "metadata": {},
   "source": [
    "<p><i>Input Vector </i><img src='images/Screenshot from 2022-12-02 22-53-14.png'></p>"
   ]
  },
  {
   "cell_type": "markdown",
   "id": "34c69e1f",
   "metadata": {},
   "source": [
    "<p><i>Update Hidden State</i> <img src='images/Screenshot from 2022-12-02 22-54-34.png'></p>"
   ]
  },
  {
   "cell_type": "markdown",
   "id": "fd40cb35",
   "metadata": {},
   "source": [
    "<p><i>Output Vector</i> <img src='images/Screenshot from 2022-12-02 22-56-38.png'></p>"
   ]
  },
  {
   "cell_type": "markdown",
   "id": "b498afec",
   "metadata": {},
   "source": [
    "<h4>RNNs: Computational Graph Across Time</h4>"
   ]
  },
  {
   "cell_type": "markdown",
   "id": "cf92c39c",
   "metadata": {},
   "source": [
    "<p><i>Representa as computational raph urolled across time</i> <img src='images/Screenshot from 2022-12-02 22-59-03.png'></p>"
   ]
  },
  {
   "cell_type": "markdown",
   "id": "e6860840",
   "metadata": {},
   "source": [
    "<p><i>Forward pass</i> <img src='images/Screenshot from 2022-12-02 22-59-03.png'><img src='images/Screenshot from 2022-12-02 23-03-24.png'></p>"
   ]
  },
  {
   "cell_type": "markdown",
   "id": "9dfb165f",
   "metadata": {},
   "source": [
    "<!--<h4><b>RNNs from Scratch</b></h4>-->"
   ]
  },
  {
   "cell_type": "markdown",
   "id": "f21c1d17",
   "metadata": {},
   "source": [
    "<!--<h4>RNNs Implementation in Pytorch</h4>-->"
   ]
  },
  {
   "cell_type": "markdown",
   "id": "7b76fa30",
   "metadata": {},
   "source": [
    "<!--<img src='images/Screenshot from 2022-12-02 23-07-54.png'>-->"
   ]
  },
  {
   "cell_type": "markdown",
   "id": "a4cbf84a",
   "metadata": {},
   "source": [
    "<h4>RNNs for Sequence Modeling</h4>"
   ]
  },
  {
   "cell_type": "markdown",
   "id": "de1d9d7f",
   "metadata": {},
   "source": [
    "   \n",
    "<table style=\"border:1px solid black; border-collapse:collapse;\">\n",
    "    \n",
    "  <tr style=\"border:1px solid black; border-collapse:collapse;\">\n",
    "    <th style=\"border:1px solid black; border-collapse:collapse;\"><img src='images/one to one.png' /></th>\n",
    "    <th style=\"border:1px solid black; border-collapse:collapse;\"><img src='images/Screenshot from 2022-11-30 01-15-57.png' /></th>\n",
    "    <th style=\"border:1px solid black; border-collapse:collapse;\"><img src='images/Screenshot from 2022-11-30 01-17-03.png' /></th>\n",
    "      <th style=\"border:1px solid black; border-collapse:collapse;\"><img src='images/Screenshot from 2022-11-30 01-17-40.png' /></th>\n",
    "  </tr>\n",
    "    \n",
    "  <tr style=\"border:1px solid black; border-collapse:collapse;\">\n",
    "    <td style=\"border:1px solid black; border-collapse:collapse;\">One to One</td>\n",
    "    <td style=\"border:1px solid black; border-collapse:collapse;\">Many to One</td>\n",
    "    <td style=\"border:1px solid black; border-collapse:collapse;\">One to Many</td>\n",
    "      <td style=\"border:1px solid black; border-collapse:collapse;\">Many to Many</td>\n",
    "  </tr>\n",
    "    \n",
    "    \n",
    "    \n",
    "    \n",
    "    \n",
    "  <tr>\n",
    "      <td style=\"border:1px solid black; border-collapse:collapse;\"><p><i>\"Vanilla\" NN Binary Classification</i></p></td>\n",
    "      <td style=\"border:1px solid black; border-collapse:collapse;\"><p><i>Sentiment Classification</i></p>\n",
    "        </td>\n",
    "    <td style=\"border:1px solid black; border-collapse:collapse;\"\n",
    "        ><p><i>Text Generation <br> Image Captioning</i></p></td>\n",
    "      <td style=\"border:1px solid black; border-collapse:collapse;\"><p><i>Translation & Forecasting <br> Music Generation</i></p></td>\n",
    "  </tr>\n",
    "</table> "
   ]
  },
  {
   "cell_type": "markdown",
   "id": "f3cfdf00",
   "metadata": {},
   "source": [
    "<h4>Sequence Modeling : Design Criteria</h4>"
   ]
  },
  {
   "cell_type": "markdown",
   "id": "56def14f",
   "metadata": {},
   "source": [
    "<p>To model sequences we need to: \n",
    "\n",
    "<ol><li>Handle <b>variable-length</b> sequences</li><li>Track <b>long-term</b> dependencies</li><li>Maintain information about <b>order</b></li><li><b>Share parameters</b> across the sequence</li></ol> <br><p><b>Recurrent Neural Networks (RNNs) </b>meet these sequence modeling design criteria</p>"
   ]
  },
  {
   "cell_type": "markdown",
   "id": "24abe25c",
   "metadata": {},
   "source": [
    "<h3>A Sequence Modeling Problem: Predict the Next Word</h3>"
   ]
  },
  {
   "cell_type": "markdown",
   "id": "1e25f83b",
   "metadata": {},
   "source": [
    "<p><i>\"This morning I took my cat for a walk.\"</i></p>\n",
    "\n",
    "<p><i style=\"color:green;\">given these words</i></p>\n",
    "\n",
    "<p><i style=\"color:red;\">predict the next word</i></p>"
   ]
  },
  {
   "cell_type": "markdown",
   "id": "58132263",
   "metadata": {},
   "source": [
    "<h4>Representing Language to a Neural Network</h4>"
   ]
  },
  {
   "cell_type": "markdown",
   "id": "bdc16c7d",
   "metadata": {},
   "source": [
    "<img src='images/Screenshot from 2022-12-03 01-57-30.png'>\n",
    "\n",
    "<p><i>Neural network cannot interpret words\"</i></p>"
   ]
  },
  {
   "cell_type": "markdown",
   "id": "d3749edb",
   "metadata": {},
   "source": [
    "<img src='images/Screenshot from 2022-12-03 02-00-25.png'>\n",
    "\n",
    "<p><i>Neural network require numerical inputs\"</i></p>"
   ]
  },
  {
   "cell_type": "markdown",
   "id": "022b84d5",
   "metadata": {},
   "source": [
    "<h3>Encoding Languag for a Neural Network</h3>"
   ]
  },
  {
   "cell_type": "markdown",
   "id": "606a69c0",
   "metadata": {},
   "source": [
    "<h5>Embedding: transform indexes into a vector of fixed size</h5>"
   ]
  },
  {
   "cell_type": "markdown",
   "id": "bfd99216",
   "metadata": {},
   "source": [
    "   \n",
    "<table style=\"border:1px solid black; border-collapse:collapse;\">\n",
    "    \n",
    "  <tr style=\"border:1px solid black; border-collapse:collapse;\">\n",
    "    <th style=\"border:1px solid black; border-collapse:collapse;\"><img src='images/Screenshot from 2022-12-03 02-03-08.png' /></th>\n",
    "    <th style=\"border:1px solid black; border-collapse:collapse;\"><img src='images/Screenshot from 2022-12-03 02-03-33.png' /></th>\n",
    "    <th style=\"border:1px solid black; border-collapse:collapse;\"><img src='images/Screenshot from 2022-12-03 02-04-09.png' /></th>\n",
    "      \n",
    "  </tr>\n",
    "    \n",
    "  <tr style=\"border:1px solid black; border-collapse:collapse;\">\n",
    "      <td style=\"border:1px solid black; border-collapse:collapse;\"><b>1.Vocabulary</b></td>\n",
    "    <td style=\"border:1px solid black; border-collapse:collapse;\"><b>2.Indexing</b></td>\n",
    "    <td style=\"border:1px solid black; border-collapse:collapse;\"><b>3.Embedding</b></td>\n",
    "      \n",
    "  </tr>\n",
    "    \n",
    "    \n",
    "    \n",
    "    \n",
    "    \n",
    "  <tr>\n",
    "      <td style=\"border:1px solid black; border-collapse:collapse;\"><p><i>Corpus of words</i></p></td>\n",
    "      <td style=\"border:1px solid black; border-collapse:collapse;\"><p><i>Word index</i></p>\n",
    "        </td>\n",
    "    <td style=\"border:1px solid black; border-collapse:collapse;\"><p><i>Index to find sized vector</i></p></td>\n",
    "      \n",
    "  </tr>\n",
    "</table> "
   ]
  },
  {
   "cell_type": "markdown",
   "id": "773a0c0d",
   "metadata": {},
   "source": [
    "<!--<h3>Handle Variable Sequence Lengths</h3>-->"
   ]
  },
  {
   "cell_type": "markdown",
   "id": "620988b3",
   "metadata": {},
   "source": [
    "<!--<p><i style=\"color:red;\">The food was <u>great</u></i></p>\n",
    "<p>vs</p>\n",
    "<p><i style=\"color:red;\">We visited a restaurant for Lunch <u>great</u></i></p>\n",
    "<p>vs</p>\n",
    "<p><i style=\"color:red;\">We were hungry but cleaned the hous before <u>eating</u></u></i></p>-->"
   ]
  },
  {
   "cell_type": "markdown",
   "id": "fd75d832",
   "metadata": {},
   "source": [
    "<h3>Backpropagation Through Time (BPTT) </h3>"
   ]
  },
  {
   "cell_type": "markdown",
   "id": "19122da3",
   "metadata": {},
   "source": [
    "<h4>Recall: Backpropagation in Feed Forward Models</h4>"
   ]
  },
  {
   "cell_type": "markdown",
   "id": "73b5616c",
   "metadata": {},
   "source": [
    "<img src='images/Screenshot from 2022-12-03 08-51-44.png'>"
   ]
  },
  {
   "cell_type": "markdown",
   "id": "3a1a5a28",
   "metadata": {},
   "source": [
    "<h4>RNNs: Backpropagation Through Time</h4>"
   ]
  },
  {
   "cell_type": "markdown",
   "id": "7080298d",
   "metadata": {},
   "source": [
    "<img src='images/Screenshot from 2022-12-03 08-53-33.png'>"
   ]
  },
  {
   "cell_type": "markdown",
   "id": "2e080f2f",
   "metadata": {},
   "source": [
    "<h4>RNNs: Backpropagation Through Time</h4>"
   ]
  },
  {
   "cell_type": "markdown",
   "id": "da41d39d",
   "metadata": {},
   "source": [
    "<img src='images/Screenshot from 2022-12-03 08-55-25.png'>"
   ]
  },
  {
   "cell_type": "markdown",
   "id": "dc3f1e55",
   "metadata": {},
   "source": [
    "<h4>Standard RNN Gradient Flow</h4>"
   ]
  },
  {
   "cell_type": "markdown",
   "id": "9059f929",
   "metadata": {},
   "source": [
    "<img src='images/Screenshot from 2022-12-03 08-57-06.png'>\n"
   ]
  },
  {
   "cell_type": "markdown",
   "id": "4576d109",
   "metadata": {},
   "source": [
    "<p>Computing the gradient wrt h_o involves <b>many factors of W_hh + repeated gradient computation!</b><p/>"
   ]
  },
  {
   "cell_type": "markdown",
   "id": "066a15c3",
   "metadata": {},
   "source": [
    "<h3>Limitations of Recurrent Models (RNNs) </h3>"
   ]
  },
  {
   "cell_type": "markdown",
   "id": "32ff1e4d",
   "metadata": {},
   "source": [
    "<img src='images/Screenshot from 2022-12-03 09-03-05.png'>\n",
    "\n",
    "<ol><li>Encoding bottleneck</li><li>Slow, no parallelization</li><li>No long memor</li></ol>"
   ]
  },
  {
   "cell_type": "markdown",
   "id": "79dc8492",
   "metadata": {},
   "source": [
    "<h3>What to learn next </h3>"
   ]
  },
  {
   "cell_type": "markdown",
   "id": "14cca22e",
   "metadata": {},
   "source": [
    "<ul><li>LSTMs</li><li>Atention Mechanism</li><li>Transformers with Atention</li></ul>"
   ]
  },
  {
   "cell_type": "code",
   "execution_count": null,
   "id": "8a379585",
   "metadata": {},
   "outputs": [],
   "source": []
  }
 ],
 "metadata": {
  "kernelspec": {
   "display_name": "Python 3 (ipykernel)",
   "language": "python",
   "name": "python3"
  },
  "language_info": {
   "codemirror_mode": {
    "name": "ipython",
    "version": 3
   },
   "file_extension": ".py",
   "mimetype": "text/x-python",
   "name": "python",
   "nbconvert_exporter": "python",
   "pygments_lexer": "ipython3",
   "version": "3.9.13"
  }
 },
 "nbformat": 4,
 "nbformat_minor": 5
}
